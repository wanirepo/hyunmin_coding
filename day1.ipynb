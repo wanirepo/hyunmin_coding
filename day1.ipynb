{
 "metadata": {
  "name": "",
  "signature": "sha256:a5dcce136a97adc91af43981d130c4a610c0b681c9ba2a3cff8f4b741ad1591e"
 },
 "nbformat": 3,
 "nbformat_minor": 0,
 "worksheets": [
  {
   "cells": [
    {
     "cell_type": "heading",
     "level": 1,
     "metadata": {},
     "source": [
      "Basic arithmetic operations"
     ]
    },
    {
     "cell_type": "code",
     "collapsed": false,
     "input": [
      "6"
     ],
     "language": "python",
     "metadata": {},
     "outputs": [
      {
       "metadata": {},
       "output_type": "pyout",
       "prompt_number": 8,
       "text": [
        "6"
       ]
      }
     ],
     "prompt_number": 8
    },
    {
     "cell_type": "code",
     "collapsed": false,
     "input": [
      "7+7"
     ],
     "language": "python",
     "metadata": {},
     "outputs": [
      {
       "metadata": {},
       "output_type": "pyout",
       "prompt_number": 9,
       "text": [
        "14"
       ]
      }
     ],
     "prompt_number": 9
    },
    {
     "cell_type": "code",
     "collapsed": false,
     "input": [
      "9-7"
     ],
     "language": "python",
     "metadata": {},
     "outputs": [
      {
       "metadata": {},
       "output_type": "pyout",
       "prompt_number": 10,
       "text": [
        "2"
       ]
      }
     ],
     "prompt_number": 10
    },
    {
     "cell_type": "code",
     "collapsed": false,
     "input": [
      "3*3"
     ],
     "language": "python",
     "metadata": {},
     "outputs": [
      {
       "metadata": {},
       "output_type": "pyout",
       "prompt_number": 11,
       "text": [
        "9"
       ]
      }
     ],
     "prompt_number": 11
    },
    {
     "cell_type": "code",
     "collapsed": false,
     "input": [
      "print \"Hello\""
     ],
     "language": "python",
     "metadata": {},
     "outputs": [
      {
       "output_type": "stream",
       "stream": "stdout",
       "text": [
        "Hello\n"
       ]
      }
     ],
     "prompt_number": 12
    },
    {
     "cell_type": "code",
     "collapsed": false,
     "input": [
      "print \"my name is hyunmin.\""
     ],
     "language": "python",
     "metadata": {},
     "outputs": [
      {
       "output_type": "stream",
       "stream": "stdout",
       "text": [
        "my name is hyunmin.\n"
       ]
      }
     ],
     "prompt_number": 13
    },
    {
     "cell_type": "code",
     "collapsed": false,
     "input": [
      "name = ['hyunmin', 'choongwan']\n",
      "age = [8, 37]\n",
      "school = ['Whittier', 'CU Boulder']\n",
      "favorite_phone_game = ['Balloon Pop', 'Angry Bird']\n",
      "favorite_computer_game = ['minecraft', 'warcraft']"
     ],
     "language": "python",
     "metadata": {},
     "outputs": [],
     "prompt_number": 33
    },
    {
     "cell_type": "code",
     "collapsed": false,
     "input": [
      "for i in [0,1]:\n",
      "    print \"My name is \" + name[i] + \". I am \" + repr(age[i]) + \" years old.\"\n",
      "    print \"My school is \" + school[i] + \". My favorite phone game is \" + favorite_phone_game[i] + \".\"\n",
      "    print \"My favorite computer game is \" + favorite_computer_game[i] + \".\"\n",
      "    print \" \""
     ],
     "language": "python",
     "metadata": {},
     "outputs": [
      {
       "output_type": "stream",
       "stream": "stdout",
       "text": [
        "My name is hyunmin. I am 8 years old.\n",
        "My school is Whittier. My favorite phone game is Balloon Pop.\n",
        "My favorite computer game is minecraft.\n",
        " \n",
        "My name is choongwan. I am 37 years old.\n",
        "My school is CU Boulder. My favorite phone game is Angry Bird.\n",
        "My favorite computer game is warcraft.\n",
        " \n"
       ]
      }
     ],
     "prompt_number": 36
    }
   ],
   "metadata": {}
  }
 ]
}